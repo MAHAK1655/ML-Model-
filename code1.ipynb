{
 "cells": [
  {
   "cell_type": "code",
   "execution_count": 24,
   "id": "4e4c18a7",
   "metadata": {},
   "outputs": [],
   "source": [
    "import requests #helps to fetch data from API\n",
    "import pandas as pd #for handling and analysing data\n",
    "import numpy as np #for numerical operations\n",
    "from sklearn.model_selection import train_test_split #to split data into training and testing sets\n",
    "from sklearn.preprocessing import LabelEncoder #to convert catogerical data into numerical values\n",
    "from sklearn.ensemble import RandomForestClassifier, RandomForestRegressor #models for classification and regression\n",
    "from sklearn.metrics import mean_squared_error #to measure the accuracy of our predictions\n",
    "from datetime import datetime, timedelta # to handle date and time\n",
    "import pytz"
   ]
  },
  {
   "cell_type": "code",
   "execution_count": 27,
   "id": "6d936866",
   "metadata": {},
   "outputs": [],
   "source": [
    "API_KEY = '62938e7d4a341f8b07802f6d4a6d5521'\n",
    "BASE_URL = 'https://api.openweathermap.org/data/2.5/weather?lat=44.34&lon=10.99&appid=62938e7d4a341f8b07802f6d4a6d5521'"
   ]
  },
  {
   "cell_type": "code",
   "execution_count": 29,
   "id": "8329c402",
   "metadata": {},
   "outputs": [],
   "source": [
    "def get_current_weather(city):\n",
    "  url = f\"{BASE_URL}weather?q={city}&appid={API_KEY}&units=metric\" #contruct the API  request URL\n",
    "  response = requests.get(url) #send the get request to API\n",
    "  data = response.json()\n",
    "\n",
    "  # Debug print to inspect response\n",
    "  print(\"API Response:\", data)\n",
    "\n",
    "  # Handle failed API responses\n",
    "  if response.status_code != 200 or 'name' not in data:\n",
    "      print(\"Error fetching data:\", data.get('message', 'Unknown error'))\n",
    "      return None\n",
    "  \n",
    "  return {\n",
    "      'city': data['name'],\n",
    "      'current_temp': round(data['main']['temp']),\n",
    "      'feels_like': round(data['main']['feels_like']),\n",
    "      'temp_min': round(data['main']['temp_min']),\n",
    "      'temp_max': round(data['main']['temp_max']),\n",
    "      'humidity': round(data['main']['humidity']),\n",
    "      'description': data['weather'][0].get('description', 'No description') if 'weather' in data and data['weather'] else 'No description',\n",
    "      'country': data['sys'].get('country', 'N/A'),\n",
    "      'wind_gust_dir': data['wind'].get('deg', 0),\n",
    "      'pressure': data['main'].get('pressure', 0),\n",
    "      'WindGustSpeed': data['wind'].get('speed', 0)\n",
    "  }"
   ]
  },
  {
   "cell_type": "code",
   "execution_count": 30,
   "id": "d932182f",
   "metadata": {},
   "outputs": [],
   "source": [
    "def read_historical_data(filename):\n",
    "  df = pd.read_csv('weather.csv')\n",
    "  df = df.dropna()\n",
    "  df = df.drop_duplicates()\n",
    "  return df"
   ]
  },
  {
   "cell_type": "code",
   "execution_count": null,
   "id": "f2eca055",
   "metadata": {},
   "outputs": [],
   "source": [
    "def prepare_data(data):\n",
    "  le = LabelEncoder() #create a LabelEncoder instance\n",
    "  data['WindGustDir'] = le.fit_transform(data['WinGustDir'])\n",
    "  data['RainTomorrow'] = le.fit_transform(data['RainTomorrow'])\n",
    "\n",
    "  #define the feature variable and target variables\n",
    "  X = data[['MinTemp', 'MaxTemp', 'WindGustDir', 'WindGustSpeed', 'Pressure', 'Temp']] # feature variable\n",
    "  y = data['RainTomorrow'] #target variable\n",
    "\n",
    "  return X, y, le #return feature variable, taget variable and the label encoder"
   ]
  },
  {
   "cell_type": "code",
   "execution_count": null,
   "id": "a7894102",
   "metadata": {},
   "outputs": [],
   "source": [
    "def train_rain_model(X, y):\n",
    "  X_train, X_test, y_train, y_test = train_test_split(X, y, test_size=0.2, random_state=42)\n",
    "  model = RandomForestClassifier(n_estimators=100, random_state=42)\n",
    "  model.fit(X_train, y_train) #train the model\n",
    "\n",
    "  y_pred = model.predict(X_test) #to make prediction on test set\n",
    "\n",
    "  print(\"Mean Squared Error for the Rain Model\")\n",
    "\n",
    "  print(mean_squared_error(y_test, y_pred))\n",
    "\n",
    "  return model"
   ]
  },
  {
   "cell_type": "code",
   "execution_count": null,
   "id": "7e60410b",
   "metadata": {},
   "outputs": [],
   "source": [
    "def prepare_regression_data(data, feature):\n",
    "  X, y = [], [] #initialize list for feature and target value\n",
    "\n",
    "  for i in range(len(data) -1):\n",
    "    X.append(data[feature].iloc[1])\n",
    "    y.append(data[feature].iloc[i + 1])\n",
    "\n",
    "  X = np.array(X).reshape(-1, 1)\n",
    "  y = np.array(y)\n",
    "\n",
    "  return X, y"
   ]
  },
  {
   "cell_type": "code",
   "execution_count": 31,
   "id": "cf5f6367",
   "metadata": {},
   "outputs": [],
   "source": [
    "def train_regression_model(X, y):\n",
    "  model = RandomForestRegressor(n_estimators=100, random_state=42)\n",
    "  model.fit(X, y)\n",
    "  return model"
   ]
  },
  {
   "cell_type": "code",
   "execution_count": 11,
   "id": "24796e27",
   "metadata": {},
   "outputs": [],
   "source": [
    "def predict_future(model, current_value):\n",
    "  predictions = [current_value]\n",
    "\n",
    "  for i in range(5):\n",
    "    next_value = model.predict(np.array([[predictions[-1]]]))\n",
    "\n",
    "    predictions.append(next_value[0])\n",
    "\n",
    "  return predictions[1:]"
   ]
  },
  {
   "cell_type": "code",
   "execution_count": null,
   "id": "e806b4c1",
   "metadata": {},
   "outputs": [
    {
     "name": "stdout",
     "output_type": "stream",
     "text": [
      "API Response: {'cod': 401, 'message': 'Invalid API key. Please see https://openweathermap.org/faq#error401 for more info.'}\n",
      "Error fetching data: Invalid API key. Please see https://openweathermap.org/faq#error401 for more info.\n"
     ]
    },
    {
     "ename": "AttributeError",
     "evalue": "'LabelEncoder' object has no attribute 'fit_transfrom'",
     "output_type": "error",
     "traceback": [
      "\u001b[31m---------------------------------------------------------------------------\u001b[39m",
      "\u001b[31mAttributeError\u001b[39m                            Traceback (most recent call last)",
      "\u001b[36mCell\u001b[39m\u001b[36m \u001b[39m\u001b[32mIn[32]\u001b[39m\u001b[32m, line 79\u001b[39m\n\u001b[32m     76\u001b[39m     \u001b[38;5;28;01mfor\u001b[39;00m time, humidity \u001b[38;5;129;01min\u001b[39;00m \u001b[38;5;28mzip\u001b[39m(future_times, future_humidity):\n\u001b[32m     77\u001b[39m         \u001b[38;5;28mprint\u001b[39m(\u001b[33mf\u001b[39m\u001b[33m\"\u001b[39m\u001b[38;5;132;01m{\u001b[39;00mtime\u001b[38;5;132;01m}\u001b[39;00m\u001b[33m: \u001b[39m\u001b[38;5;132;01m{\u001b[39;00m\u001b[38;5;28mround\u001b[39m(humidity,\u001b[38;5;250m \u001b[39m\u001b[32m1\u001b[39m)\u001b[38;5;132;01m}\u001b[39;00m\u001b[33m%\u001b[39m\u001b[33m\"\u001b[39m)\n\u001b[32m---> \u001b[39m\u001b[32m79\u001b[39m \u001b[43mweather_view\u001b[49m\u001b[43m(\u001b[49m\u001b[43m)\u001b[49m\n",
      "\u001b[36mCell\u001b[39m\u001b[36m \u001b[39m\u001b[32mIn[32]\u001b[39m\u001b[32m, line 9\u001b[39m, in \u001b[36mweather_view\u001b[39m\u001b[34m()\u001b[39m\n\u001b[32m      6\u001b[39m historical_data = read_historical_data(\u001b[33m'\u001b[39m\u001b[33m../weather.csv\u001b[39m\u001b[33m'\u001b[39m)\n\u001b[32m      8\u001b[39m \u001b[38;5;66;03m# Prepare and train the rain prediction model\u001b[39;00m\n\u001b[32m----> \u001b[39m\u001b[32m9\u001b[39m X, y, le = \u001b[43mprepare_data\u001b[49m\u001b[43m(\u001b[49m\u001b[43mhistorical_data\u001b[49m\u001b[43m)\u001b[49m\n\u001b[32m     10\u001b[39m rain_model = train_rain_model(X, y)\n\u001b[32m     12\u001b[39m \u001b[38;5;66;03m# Map wind direction to compass points\u001b[39;00m\n",
      "\u001b[36mCell\u001b[39m\u001b[36m \u001b[39m\u001b[32mIn[6]\u001b[39m\u001b[32m, line 3\u001b[39m, in \u001b[36mprepare_data\u001b[39m\u001b[34m(data)\u001b[39m\n\u001b[32m      1\u001b[39m \u001b[38;5;28;01mdef\u001b[39;00m\u001b[38;5;250m \u001b[39m\u001b[34mprepare_data\u001b[39m(data):\n\u001b[32m      2\u001b[39m   le = LabelEncoder() \u001b[38;5;66;03m#create a LabelEncoder instance\u001b[39;00m\n\u001b[32m----> \u001b[39m\u001b[32m3\u001b[39m   data[\u001b[33m'\u001b[39m\u001b[33mWindGustDir\u001b[39m\u001b[33m'\u001b[39m] = \u001b[43mle\u001b[49m\u001b[43m.\u001b[49m\u001b[43mfit_transfrom\u001b[49m(data[\u001b[33m'\u001b[39m\u001b[33mWinGustDir\u001b[39m\u001b[33m'\u001b[39m])\n\u001b[32m      4\u001b[39m   data[\u001b[33m'\u001b[39m\u001b[33mRainTomorrow\u001b[39m\u001b[33m'\u001b[39m] = le.fit_transfrom(data[\u001b[33m'\u001b[39m\u001b[33mRainTomorrow\u001b[39m\u001b[33m'\u001b[39m])\n\u001b[32m      6\u001b[39m   \u001b[38;5;66;03m#define the feature variable and target variables\u001b[39;00m\n",
      "\u001b[31mAttributeError\u001b[39m: 'LabelEncoder' object has no attribute 'fit_transfrom'"
     ]
    }
   ],
   "source": [
    "def weather_view():\n",
    "    city = input('Enter any city name: ')\n",
    "    current_weather = get_current_weather(city)\n",
    "\n",
    "    # Load historical data\n",
    "    historical_data = read_historical_data('../weather.csv')\n",
    "\n",
    "    # Prepare and train the rain prediction model\n",
    "    X, y, le = prepare_data(historical_data)\n",
    "    rain_model = train_rain_model(X, y)\n",
    "\n",
    "    # Map wind direction to compass points\n",
    "    wind_deg = current_weather['wind_gust_dir'] % 360\n",
    "    compass_points = [\n",
    "        (\"N\", 0, 11.25), (\"NNE\", 11.25, 33.75), (\"NE\", 33.75, 56.25),\n",
    "        (\"ENE\", 56.25, 78.75), (\"E\", 78.75, 101.25), (\"ESE\", 101.25, 123.75),\n",
    "        (\"SE\", 123.75, 146.25), (\"SSE\", 146.25, 168.75), (\"S\", 168.75, 191.25),\n",
    "        (\"SSW\", 191.25, 213.75), (\"SW\", 213.75, 236.25), (\"WSW\", 236.25, 258.75),\n",
    "        (\"W\", 258.75, 281.25), (\"WNW\", 281.25, 303.75), (\"NW\", 303.75, 326.25),\n",
    "        (\"NNW\", 326.25, 348.75)\n",
    "    ]\n",
    "\n",
    "    compass_direction = next(point for point, start, end in compass_points if start <= wind_deg < end)\n",
    "\n",
    "    compass_direction_encoded = le.transform([compass_direction])[0] if compass_direction in le.classes_ else -1\n",
    "\n",
    "    current_data = {\n",
    "        'MinTemp': current_weather['temp_min'],\n",
    "        'MaxTemp': current_weather['temp_max'],\n",
    "        'WindGustDir': compass_direction_encoded,\n",
    "        'WindGustSpeed': current_weather['wind_gust_speed'],\n",
    "        'Humidity': current_weather['humidity'],\n",
    "        'Pressure': current_weather['pressure'],\n",
    "        'Temp': current_weather['current_temp'],\n",
    "    }\n",
    "\n",
    "    current_df = pd.DataFrame([current_data])\n",
    "\n",
    "    # Rain prediction\n",
    "    rain_prediction = rain_model.predict(current_df)[0]\n",
    "\n",
    "    # Prepare regression model for temperature and humidity\n",
    "    X_temp, y_temp = prepare_regression_data(historical_data, 'Temp')\n",
    "    X_hum, y_hum = prepare_regression_data(historical_data, 'Humidity')\n",
    "\n",
    "    temp_model = train_regression_model(X_temp, y_temp)\n",
    "    hum_model = train_regression_model(X_hum, y_hum)\n",
    "\n",
    "    # Predict future temperature and humidity\n",
    "    future_temp = predict_future(temp_model, current_weather['temp_min'])\n",
    "    future_humidity = predict_future(hum_model, current_weather['humidity'])\n",
    "\n",
    "    # Prepare time for future predictions\n",
    "    timezone = pytz.timezone('Asia/Kolkata')\n",
    "    now = datetime.now(timezone)\n",
    "    next_hour = now + timedelta(hours=1)\n",
    "    next_hour = next_hour.replace(minute=0, second=0, microsecond=0)\n",
    "\n",
    "    future_times = [(next_hour + timedelta(hours=i)).strftime(\"%H:00\") for i in range(5)]\n",
    "\n",
    "    # Display results\n",
    "    print(f\"City: {city}, {current_weather['country']}\")\n",
    "    print(f\"Current Temperature: {current_weather['current_temp']}°C\")\n",
    "    print(f\"Feels Like: {current_weather['feels_like']}°C\")\n",
    "    print(f\"Minimum Temperature: {current_weather['temp_min']}°C\")\n",
    "    print(f\"Maximum Temperature: {current_weather['temp_max']}°C\")\n",
    "    print(f\"Humidity: {current_weather['humidity']}%\")\n",
    "    print(f\"Weather Prediction: {current_weather['description']}\")\n",
    "    print(f\"Rain Prediction: {'Yes' if rain_prediction else 'No'}\")\n",
    "\n",
    "    print(\"\\nFuture Temperature Predictions:\")\n",
    "    for time, temp in zip(future_times, future_temp):\n",
    "        print(f\"{time}: {round(temp, 1)}°C\")\n",
    "\n",
    "    print(\"\\nFuture Humidity Predictions:\")\n",
    "    for time, humidity in zip(future_times, future_humidity):\n",
    "        print(f\"{time}: {round(humidity, 1)}%\")\n",
    "weather_view()"
   ]
  }
 ],
 "metadata": {
  "kernelspec": {
   "display_name": "Python 3",
   "language": "python",
   "name": "python3"
  },
  "language_info": {
   "codemirror_mode": {
    "name": "ipython",
    "version": 3
   },
   "file_extension": ".py",
   "mimetype": "text/x-python",
   "name": "python",
   "nbconvert_exporter": "python",
   "pygments_lexer": "ipython3",
   "version": "3.13.5"
  }
 },
 "nbformat": 4,
 "nbformat_minor": 5
}
